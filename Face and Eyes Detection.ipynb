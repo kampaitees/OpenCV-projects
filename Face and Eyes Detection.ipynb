{
 "cells": [
  {
   "cell_type": "code",
   "execution_count": 2,
   "metadata": {},
   "outputs": [],
   "source": [
    "import cv2\n",
    "import numpy as np\n",
    "from matplotlib import cm\n",
    "import matplotlib.pyplot as plt"
   ]
  },
  {
   "cell_type": "code",
   "execution_count": 7,
   "metadata": {},
   "outputs": [
    {
     "data": {
      "text/plain": [
       "array([188., 189.,  34.])"
      ]
     },
     "execution_count": 7,
     "metadata": {},
     "output_type": "execute_result"
    }
   ],
   "source": [
    "(np.array(cm.tab10(8)[:3])*255)"
   ]
  },
  {
   "cell_type": "code",
   "execution_count": 17,
   "metadata": {},
   "outputs": [
    {
     "name": "stdout",
     "output_type": "stream",
     "text": [
      "/home/rishisharma/Documents/Computer Vision with OpenCV and Deep Learning/Computer-Vision-with-Python Notebooks/DATA\n"
     ]
    }
   ],
   "source": [
    "cv2.EVENT_LBUTTONDOWN"
   ]
  },
  {
   "cell_type": "code",
   "execution_count": 18,
   "metadata": {},
   "outputs": [
    {
     "name": "stdout",
     "output_type": "stream",
     "text": [
      "00-puppy.jpg\t      flat_chessboard.png    rainbow.jpg\n",
      "bank_note_data.txt    giraffes.jpg\t     real_chessboard.jpg\n",
      "bricks.jpg\t      gorilla.jpg\t     ReceiptSwiss.jpg\n",
      "car_plate.jpg\t      haarcascades\t     reeses_puffs.png\n",
      "cartoon_receipt.jpg   hand_move.mp4\t     road_image.jpg\n",
      "chessboard_mat.jpg    horse.jpg\t\t     sammy_face.jpg\n",
      "coins_on_white.jpg    internal_external.png  sammy.jpg\n",
      "crossword.jpg\t      lbpcascades\t     sammy_noise.jpg\n",
      "damien_hirst_dot.jpg  Logo.jpg\t\t     separate_coins.jpg\n",
      "Denis_Mukwege.jpg     lucky_charms.jpg\t     solvay_conference.jpg\n",
      "dog_backpack.jpg      many_cereals.jpg\t     sudoku.jpg\n",
      "dog_backpack.png      Nadia_Murad.jpg\t     uspassport.jpg\n",
      "dot_grid.png\t      new_rainbow.png\t     video_capture.mp4\n",
      "finger_move.mp4       overlap_coins.jpg      watermark_no_copy.png\n",
      "five_shapes.PNG       pennies.jpg\t     wood_detail.jpg\n"
     ]
    }
   ],
   "source": [
    "!ls"
   ]
  },
  {
   "cell_type": "code",
   "execution_count": null,
   "metadata": {},
   "outputs": [],
   "source": []
  }
 ],
 "metadata": {
  "kernelspec": {
   "display_name": "Python 3",
   "language": "python",
   "name": "python3"
  },
  "language_info": {
   "codemirror_mode": {
    "name": "ipython",
    "version": 3
   },
   "file_extension": ".py",
   "mimetype": "text/x-python",
   "name": "python",
   "nbconvert_exporter": "python",
   "pygments_lexer": "ipython3",
   "version": "3.6.7"
  }
 },
 "nbformat": 4,
 "nbformat_minor": 2
}
